{
 "cells": [
  {
   "cell_type": "markdown",
   "metadata": {},
   "source": [
    "## Importation des librairies"
   ]
  },
  {
   "cell_type": "code",
   "execution_count": 1,
   "metadata": {},
   "outputs": [],
   "source": [
    "#Libraries\n",
    "import re\n",
    "import pandas as pd"
   ]
  },
  {
   "cell_type": "markdown",
   "metadata": {},
   "source": [
    "## Class Tache :"
   ]
  },
  {
   "cell_type": "code",
   "execution_count": 2,
   "metadata": {},
   "outputs": [],
   "source": [
    "class Tache(object):\n",
    "    def __init__(self, nom, description, precedents, duree):\n",
    "        self.nom = nom\n",
    "        self.description = description\n",
    "        self.precedents = precedents\n",
    "        self.duree = duree\n",
    "        self.ES = 0\n",
    "        self.EF = 0\n",
    "        self.successeurs = []\n",
    "        self.LS = 0\n",
    "        self.LF = 0\n",
    "        self.marge_totale = 0\n",
    "        self.critique = ''\n",
    "    #fonction pour la calcule de la marge totale et est ce que une tache est critique ou non\n",
    "    def calcMargeTotale(self):\n",
    "        self.marge_totale = self.LF - self.duree - self.ES\n",
    "        if self.marge_totale > 0:\n",
    "            self.critique = 'Non'\n",
    "        else:\n",
    "            self.critique = 'Oui'"
   ]
  },
  {
   "cell_type": "markdown",
   "metadata": {},
   "source": [
    "## Declaration des fonctions :"
   ]
  },
  {
   "cell_type": "markdown",
   "metadata": {},
   "source": [
    "lireData :"
   ]
  },
  {
   "cell_type": "code",
   "execution_count": 3,
   "metadata": {},
   "outputs": [],
   "source": [
    "#fonction pour passer une table de donnée existe dans un fichier excel\n",
    "#la table de donnée sera transformée en un dataframe a l'aide du librairie Pandas\n",
    "#cette fonction retourne un dataframe\n",
    "def lireData(excel_file):\n",
    "    df = pd.read_excel(excel_file)\n",
    "    return df"
   ]
  },
  {
   "cell_type": "markdown",
   "metadata": {},
   "source": [
    "creerTaches :"
   ]
  },
  {
   "cell_type": "code",
   "execution_count": 4,
   "metadata": {},
   "outputs": [],
   "source": [
    "#fonction permet de créer une liste des taches a partir du dataframe géneré par la fonction lireData\n",
    "def creerTaches(df):\n",
    "    liste_taches = []\n",
    "    \n",
    "    for i in range(len(df)):\n",
    "        liste_taches.append(Tache(df['Tache'][i],df['Description'][i],df['P'][i],df['Duree'][i]))\n",
    "    \n",
    "    return (liste_taches)"
   ]
  },
  {
   "cell_type": "markdown",
   "metadata": {},
   "source": [
    "parcoursEnAvant :"
   ]
  },
  {
   "cell_type": "code",
   "execution_count": 5,
   "metadata": {},
   "outputs": [],
   "source": [
    "#fonction fait un parcours en avant est permet de calculer : ES (early start) et EF (early finish)\n",
    "#il est obligatoire de passer une liste des taches\n",
    "\n",
    "#règle 1 : ES des taches qui n'ont aucun precedents égale 0\n",
    "#règle 2 : ES des taches qui one des taches qui ont des precedents égale au maximum des EF de ses precedents\n",
    "#règle 3 : ES de la dernière tache égale à la somme des ES de toutes les activités plus la durée de la dernière\n",
    "\n",
    "def parcoursEnAvant(liste_taches):\n",
    "    for tache in liste_taches:\n",
    "        if type(tache.precedents) is str:\n",
    "            tache.precedents = tache.precedents.upper()\n",
    "            ef = []\n",
    "            for j in tache.precedents:\n",
    "                for t in liste_taches:\n",
    "                    if t.nom == j:\n",
    "                        ef.append(t.EF)\n",
    "                tache.ES = max(ef)\n",
    "            del ef\n",
    "        else:\n",
    "            tache.ES = 0\n",
    "        \n",
    "        tache.EF = tache.ES + tache.duree"
   ]
  },
  {
   "cell_type": "markdown",
   "metadata": {},
   "source": [
    "parcoursEnArriere :"
   ]
  },
  {
   "cell_type": "code",
   "execution_count": 6,
   "metadata": {},
   "outputs": [],
   "source": [
    "#fonction fait un parcours en arrière est permet de calculer : LS (late start) et LF (late finish)\n",
    "#il est obligatoire d'implementer la fonction parcoursEnAvant avant d'utiliser parcoursEnArrier\n",
    "#règle 1 : LF d'une tache qui n'est pas precedente d'aucune tache égale le maximum des EF\n",
    "#règle 2 : LF d'une tache qui precedente d'autres taches égale le minimum EF de ses successeurs\n",
    "#règle 3 : LS d'une tache = lf - durée\n",
    "def parcoursEnArriere(liste_taches):\n",
    "    \n",
    "    pred = []\n",
    "    eF = []\n",
    "    \n",
    "    #obtenir les EF de toutes les taches et remplire pred\n",
    "    #obtenir les successeurs de chaque tache\n",
    "    for tache in liste_taches:\n",
    "        if type(tache.precedents) == str:\n",
    "            for j in tache.precedents:\n",
    "                pattern = re.compile(r'[A-Z]')\n",
    "                match = pattern.finditer(j)\n",
    "                for r in match:\n",
    "                    pred.append(j)\n",
    "                    for m in liste_taches:\n",
    "                        if m.nom == j:\n",
    "                            m.successeurs.append(tache.nom)\n",
    "        eF.append(tache.EF)\n",
    "        \n",
    "    for tache in reversed(liste_taches):\n",
    "        if tache.nom not in pred:\n",
    "            tache.LF = max(eF)\n",
    "        else:\n",
    "            \n",
    "            minLs = []\n",
    "            for x in tache.successeurs:\n",
    "                for t in (liste_taches):\n",
    "                    if t.nom == x:\n",
    "                        minLs.append(t.LS)\n",
    "            tache.LF = min(minLs)\n",
    "            del minLs\n",
    "            \n",
    "        tache.LS = tache.LF - tache.duree"
   ]
  },
  {
   "cell_type": "markdown",
   "metadata": {},
   "source": [
    "marge totale :"
   ]
  },
  {
   "cell_type": "code",
   "execution_count": 7,
   "metadata": {},
   "outputs": [],
   "source": [
    "def margeTotale(liste_taches):\n",
    "    for tache in liste_taches:\n",
    "        tache.calcMargeTotale()"
   ]
  },
  {
   "cell_type": "markdown",
   "metadata": {},
   "source": [
    "mise a jour du dataframe:"
   ]
  },
  {
   "cell_type": "code",
   "execution_count": 17,
   "metadata": {},
   "outputs": [],
   "source": [
    "#update dataframe\n",
    "def MAJdataFrame(df,liste_taches):\n",
    "    df2 = pd.DataFrame({\n",
    "        'Tache' : df['Tache'],\n",
    "        'Description' : df['Description'],\n",
    "        'P' : df['P'],\n",
    "        'Duree' : df['Duree'],\n",
    "        'Marge Totale' : pd.Series([tache.marge_totale for tache in liste_taches]),\n",
    "        'Critique' : pd.Series([tache.critique for tache in liste_taches]),\n",
    "    })\n",
    "    return (df2)"
   ]
  },
  {
   "cell_type": "markdown",
   "metadata": {},
   "source": [
    "fonction main :"
   ]
  },
  {
   "cell_type": "code",
   "execution_count": 19,
   "metadata": {},
   "outputs": [],
   "source": [
    "def main():\n",
    "    excel_file = 'input.xlsx'\n",
    "    df = lireData(excel_file)\n",
    "    print('loaded data:')\n",
    "    print(df)\n",
    "    liste_taches = creerTaches(df)\n",
    "    parcoursEnAvant(liste_taches)\n",
    "    parcoursEnArriere(liste_taches)\n",
    "    margeTotale(liste_taches)\n",
    "    finaldf = MAJdataFrame(df,liste_taches)\n",
    "    print(\"results:\")\n",
    "    print(finaldf)\n",
    "    print('results saved to pertcpm.xlsx')\n",
    "    finaldf.to_excel('output.xlsx', index = False)"
   ]
  },
  {
   "cell_type": "code",
   "execution_count": 20,
   "metadata": {},
   "outputs": [
    {
     "name": "stdout",
     "output_type": "stream",
     "text": [
      "loaded data:\n",
      "  Tache Description    P  Duree  Marge Total  Critique  Unnamed: 6\n",
      "0     A  Activity 1  NaN      6          NaN       NaN         NaN\n",
      "1     B  Activity 2  NaN      9          NaN       NaN         NaN\n",
      "2     C  Activity 3  A,B     10          NaN       NaN         NaN\n",
      "3     D  Activity 4    C      8          NaN       NaN         NaN\n",
      "4     E  Activity 5    C      5          NaN       NaN         NaN\n",
      "5     F  Activity 6  E,D      7          NaN       NaN         NaN\n",
      "6     G  Activity 7    F      5          NaN       NaN         NaN\n",
      "7     H  Activity 8    F      8          NaN       NaN         NaN\n",
      "results:\n",
      "  Tache Description    P  Duree  Marge Totale Critique\n",
      "0     A  Activity 1  NaN      6             3      Non\n",
      "1     B  Activity 2  NaN      9             0      Oui\n",
      "2     C  Activity 3  A,B     10             0      Oui\n",
      "3     D  Activity 4    C      8             0      Oui\n",
      "4     E  Activity 5    C      5             3      Non\n",
      "5     F  Activity 6  E,D      7             0      Oui\n",
      "6     G  Activity 7    F      5             3      Non\n",
      "7     H  Activity 8    F      8             0      Oui\n",
      "results saved to pertcpm.xlsx\n"
     ]
    }
   ],
   "source": [
    "main()"
   ]
  }
 ],
 "metadata": {
  "kernelspec": {
   "display_name": "Python 3",
   "language": "python",
   "name": "python3"
  },
  "language_info": {
   "codemirror_mode": {
    "name": "ipython",
    "version": 3
   },
   "file_extension": ".py",
   "mimetype": "text/x-python",
   "name": "python",
   "nbconvert_exporter": "python",
   "pygments_lexer": "ipython3",
   "version": "3.8.3"
  }
 },
 "nbformat": 4,
 "nbformat_minor": 4
}
